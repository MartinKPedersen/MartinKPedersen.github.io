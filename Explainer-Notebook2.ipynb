{
 "cells": [
  {
   "cell_type": "markdown",
   "metadata": {},
   "source": [
    "<h1>Explainer notebook for the course 02806 Social data analysis and visualization</h1>"
   ]
  },
  {
   "cell_type": "markdown",
   "metadata": {},
   "source": [
    "<b>Create by</b> <br></br>\n",
    "Christopher Nelson <b>s092629</b> <br></br>\n",
    "Martin Kæreby Lund <b>s152222</b>"
   ]
  },
  {
   "cell_type": "markdown",
   "metadata": {},
   "source": [
    "<h2>Imports</h2>"
   ]
  },
  {
   "cell_type": "code",
   "execution_count": 39,
   "metadata": {
    "collapsed": true
   },
   "outputs": [],
   "source": [
    "import numpy as np\n",
    "import pandas as pd\n",
    "from pandas import Series,DataFrame\n",
    "from csv import reader\n",
    "import matplotlib.pyplot as plt"
   ]
  },
  {
   "cell_type": "markdown",
   "metadata": {},
   "source": [
    "<h2> Content of the notebook </h2> <br> </br>\n",
    "<b>1. Motivation</b><br> </br>\n",
    "<br> </br>\n",
    "<b>2. Basic Stats</b><br> </br>\n",
    "2.1 Investigating distribution of socioeconomic statuses and employment status <br> </br>\n",
    "2.2 Identifying people within certain districts with certain socioeconomic statuses <br> </br>\n",
    "2.3 Searching for trends <br> </br>\n",
    "<br> </br>\n",
    "<b>3. Theory</b><br> </br>\n",
    "<br> </br>\n",
    "<b>4. Visualizations</b><br> </br>\n",
    "4.1 Mouseover labels<br> </br>\n",
    "4.2 Scatter plt<br> </br>\n",
    "4.3 Grouped bar chart <br> </br>\n",
    "4.4 Stacked bar chart<br> </br>\n",
    "4.5 Donut chart <br> </br>\n",
    "<br> </br>\n",
    "<b>5. Discussion</b><br> </br>\n",
    "5.1 The good<br> </br>\n",
    "5.2 The bad <br> </br>"
   ]
  },
  {
   "cell_type": "markdown",
   "metadata": {},
   "source": [
    "<h2>1. Motivation</h2>"
   ]
  },
  {
   "cell_type": "markdown",
   "metadata": {},
   "source": [
    "The dataset revolves around the socioeconomic statuses of citizens in the Copenhagen districts. It furthermore gives us their age, employment status and ancestry (whether they are danish or immigrants). \n",
    "\n",
    "We chose this dataset because we wanted to see which part of Copenhagen was the most popular and why. We believed that age would help us define which part of Copenhagen attracted certain age groups and that the socioeconomic status would help us understand why. \n",
    "\n",
    "The end goal was to take the user on a journey into the various districts of Copenhagen and have them understand the dynamics of the population within the city."
   ]
  },
  {
   "cell_type": "markdown",
   "metadata": {},
   "source": [
    "<h2>2. Basic Stats</h2>"
   ]
  },
  {
   "cell_type": "markdown",
   "metadata": {},
   "source": [
    "The data set consists of a variety of socioeconomic statuses. Each socioeconomic status corresponds to an individuals relation to the danish workforce."
   ]
  },
  {
   "cell_type": "code",
   "execution_count": 40,
   "metadata": {
    "collapsed": false
   },
   "outputs": [
    {
     "name": "stdout",
     "output_type": "stream",
     "text": [
      "The 34 socioeconomic statueses are:\n",
      "[132 133 134 135 136 400 115 116 118 131 201 202 309 311 312 316 322 323\n",
      " 331 333 340 350 360 315 120 319 324 326 329 313 318 314 117 325]\n"
     ]
    }
   ],
   "source": [
    "dataFrame = pd.read_csv('Socio_Stat_Alder_Herkomst.csv')\n",
    "df = dataFrame[['SOCSTIL','SOC_GRUPPE','BYDEL', 'PERSONER']]\n",
    "\n",
    "#Remove faulty data\"\n",
    "df = df[pd.notnull(df['SOCSTIL'])]\n",
    "\n",
    "#Put unique districts in a list\\n\n",
    "uniqueDistricts = pd.unique(df.SOCSTIL.ravel())\n",
    "print \"The 34 socioeconomic statueses are:\"\n",
    "print uniqueDistricts"
   ]
  },
  {
   "cell_type": "markdown",
   "metadata": {},
   "source": [
    "In order for us to utilize the dataset to test our specific hypothesis, several steps had to be taken. First we isolated the three primary variables in terms of socioeconomic status that we wanted to research. This was 1. Employees at the highest salary level (132), 2. Employees at medium salary level (133), 3. Employees at ground salary level (134). This was done after investigating the distribution of socioeconomic statuses and finding that these were among the most frequent. The other statuses with a high frequency were too out of place in terms of including them in the isolation e.g. Employees ultimo november. "
   ]
  },
  {
   "cell_type": "markdown",
   "metadata": {},
   "source": [
    "<b> 2.1 Investigating distribution of socioeconomic statuses and employment status</b>"
   ]
  },
  {
   "cell_type": "code",
   "execution_count": 64,
   "metadata": {
    "collapsed": false
   },
   "outputs": [
    {
     "data": {
      "image/png": "[encoded data removed]",
      "text/plain": [
       "<matplotlib.figure.Figure at 0xaffa550>"
      ]
     },
     "metadata": {},
     "output_type": "display_data"
    }
   ],
   "source": [
    "df1 = df.groupby(['SOCSTIL']).size()\n",
    "df1 = df1.reset_index()\n",
    "df1 = df1.sort_values([0],ascending = False)\n",
    "\n",
    "df2 = df.groupby(['SOC_GRUPPE']).size()\n",
    "df2 = df2.reset_index()\n",
    "df2 = df2.sort_values([0],ascending = False)\n",
    "\n",
    "fig, axes = plt.subplots(nrows=2, ncols = 2) #For some reason it doesnt work with nrows=1\n",
    "df1.plot.bar(ax = axes[0,0], sharex = False, title = 'Number of each \"Social Economical Status\"', x='SOCSTIL', figsize=(15,10))\n",
    "df2.plot.bar(ax = axes[0,1], sharex = False, title = 'Number of each \"Social Group\"', x='SOC_GRUPPE')\n",
    "plt.show()"
   ]
  },
  {
   "cell_type": "markdown",
   "metadata": {},
   "source": [
    "<b> 2.2 Identifying people within certain districts with certain socioeconomic statuses </b>"
   ]
  },
  {
   "cell_type": "markdown",
   "metadata": {},
   "source": [
    "The following code is an example. This was done for every district. "
   ]
  },
  {
   "cell_type": "code",
   "execution_count": 42,
   "metadata": {
    "collapsed": false
   },
   "outputs": [
    {
     "name": "stdout",
     "output_type": "stream",
     "text": [
      "        AAR  BYDEL  SOCSTIL  PERSONER\n",
      "0      2013      1      132        11\n",
      "1      2013      1      133         4\n",
      "2      2013      1      134        34\n",
      "8      2013      1      133         1\n",
      "9      2013      1      134         3\n",
      "16     2013      1      132       345\n",
      "17     2013      1      133       206\n",
      "18     2013      1      134      2401\n",
      "37     2013      1      132        63\n",
      "38     2013      1      133        15\n",
      "39     2013      1      134       117\n",
      "54     2013      1      132         6\n",
      "55     2013      1      133         5\n",
      "56     2013      1      134        51\n",
      "70     2013      1      132      1226\n",
      "71     2013      1      133       455\n",
      "72     2013      1      134      1414\n",
      "93     2013      1      132       279\n",
      "94     2013      1      133        64\n",
      "95     2013      1      134       167\n",
      "110    2013      1      132        20\n",
      "111    2013      1      133         7\n",
      "112    2013      1      134        34\n",
      "127    2013      1      132      6176\n",
      "128    2013      1      133      1560\n",
      "129    2013      1      134      2409\n",
      "152    2013      1      132      1009\n",
      "153    2013      1      133       185\n",
      "154    2013      1      134       420\n",
      "175    2013      1      132        62\n",
      "...     ...    ...      ...       ...\n",
      "46393  1997      1      133       774\n",
      "46394  1997      1      134      1305\n",
      "46415  1997      1      132        45\n",
      "46416  1997      1      133        17\n",
      "46417  1997      1      134        53\n",
      "46432  1997      1      132         9\n",
      "46433  1997      1      133         2\n",
      "46434  1997      1      134         9\n",
      "46448  1997      1      132      4080\n",
      "46449  1997      1      133      2515\n",
      "46450  1997      1      134      2828\n",
      "46474  1997      1      132       343\n",
      "46475  1997      1      133       167\n",
      "46476  1997      1      134       262\n",
      "46499  1997      1      132        35\n",
      "46500  1997      1      133        14\n",
      "46501  1997      1      134        14\n",
      "46517  1997      1      132       202\n",
      "46518  1997      1      133       112\n",
      "46519  1997      1      134       167\n",
      "46536  1997      1      132        19\n",
      "46537  1997      1      133         7\n",
      "46538  1997      1      134         7\n",
      "46546  1997      1      132         2\n",
      "46556  1997      1      132        87\n",
      "46557  1997      1      133        34\n",
      "46558  1997      1      134        63\n",
      "46569  1997      1      132         3\n",
      "46570  1997      1      133         4\n",
      "46571  1997      1      134         2\n",
      "\n",
      "[756 rows x 4 columns]\n"
     ]
    }
   ],
   "source": [
    "csvfile = pd.read_csv('Socio_Stat_Alder_Herkomst.csv')\n",
    "\n",
    "#data1 is all of the data\n",
    "data1 = pd.DataFrame(csvfile)\n",
    "\n",
    "#data2 is data with the relevant columns (but not right socstils)\n",
    "data2 = DataFrame(data1, columns=['AAR','BYDEL','SOCSTIL', 'PERSONER'])\n",
    "\n",
    "datasetBy1 = data2[(data2['SOCSTIL'] == 133) | (data2['SOCSTIL'] == 132) | (data2['SOCSTIL'] == 134)]\n",
    "datasetBy1 = datasetBy1[(datasetBy1['BYDEL'] == 1)]\n",
    "\n",
    "print datasetBy1"
   ]
  },
  {
   "cell_type": "markdown",
   "metadata": {},
   "source": [
    "Since the dataset is heavily grouped meaning that each line does not represent a single individual but rather a group of people we had to separate these groups first. We did this by isolating single groups of people sharing all other attributes and then summarizing them into a single line, thus reducing the size of the dataset and making it more manageable."
   ]
  },
  {
   "cell_type": "code",
   "execution_count": 43,
   "metadata": {
    "collapsed": false
   },
   "outputs": [
    {
     "name": "stdout",
     "output_type": "stream",
     "text": [
      "Vesterbro/Kgs. Enghave in 1997\n",
      "People with 132 socioeconomic status: 2932\n",
      "People with 133 socioeconomic status: 3053\n",
      "People with 134 socioeconomic status: 9370\n"
     ]
    }
   ],
   "source": [
    "dataset1 = data2[(data2['AAR'] == 1997) & (data2['BYDEL'] == 4) & (data2['SOCSTIL'] == 132)]\n",
    "ialt132 = dataset1['PERSONER'].sum() #Antal personer i alt\n",
    "\n",
    "dataset1 = data2[(data2['AAR'] == 1997) & (data2['BYDEL'] == 4) & (data2['SOCSTIL'] == 133)]\n",
    "ialt133 = dataset1['PERSONER'].sum() #Antal personer i alt\n",
    "\n",
    "dataset1 = data2[(data2['AAR'] == 1997) & (data2['BYDEL'] == 4) & (data2['SOCSTIL'] == 134)]\n",
    "ialt134 = dataset1['PERSONER'].sum() #Antal personer i alt\n",
    "print 'Vesterbro/Kgs. Enghave in 1997'\n",
    "print 'People with 132 socioeconomic status:', ialt132\n",
    "print 'People with 133 socioeconomic status:', ialt133\n",
    "print 'People with 134 socioeconomic status:', ialt134"
   ]
  },
  {
   "cell_type": "markdown",
   "metadata": {},
   "source": [
    "This same technique was used to isolate people with a specific ancestry or employment status. Overall we created five new csv files and one tsv file in order for us to create the proper visualizations."
   ]
  },
  {
   "cell_type": "markdown",
   "metadata": {},
   "source": [
    "<b>2.3 Searching for trends</b>"
   ]
  },
  {
   "cell_type": "markdown",
   "metadata": {},
   "source": [
    "In order for us to get a better overview of the data we searched for overall trends within the data set."
   ]
  },
  {
   "cell_type": "markdown",
   "metadata": {},
   "source": [
    "The following code snippet displayes the high-income citizens through time in Copenhagen."
   ]
  },
  {
   "cell_type": "code",
   "execution_count": 44,
   "metadata": {
    "collapsed": false
   },
   "outputs": [
    {
     "data": {
      "image/png": "[encoded data removed]",
      "text/plain": [
       "<matplotlib.figure.Figure at 0xb2fd518>"
      ]
     },
     "metadata": {},
     "output_type": "display_data"
    }
   ],
   "source": [
    "df5 = dataFrame[['SOC_GRUPPE', 'SOCSTIL', 'AAR', 'PERSONER', 'BYDEL']]\n",
    "df10 = df5[df5['SOCSTIL'] == 132]\n",
    "df10 = df10.groupby(['AAR']).size()\n",
    "df10.plot.bar(title = 'High-income citizens', x = 'AAR')\n",
    "plt.show()"
   ]
  },
  {
   "cell_type": "markdown",
   "metadata": {},
   "source": [
    "We also looked at the development of employment status. The following code looks at employed citizens in Copenhagen through time."
   ]
  },
  {
   "cell_type": "code",
   "execution_count": 45,
   "metadata": {
    "collapsed": false
   },
   "outputs": [
    {
     "data": {
      "image/png": "[encoded data removed]",
      "text/plain": [
       "<matplotlib.figure.Figure at 0xb089240>"
      ]
     },
     "metadata": {},
     "output_type": "display_data"
    }
   ],
   "source": [
    "Beskaeftiget = df5[df5['SOC_GRUPPE'] == 1]\n",
    "Beskaeftiget = Beskaeftiget.groupby(['AAR']).size()\n",
    "Beskaeftiget.plot.bar(title = 'Employed', color='blue', align='center', x = 'AAR')\n",
    "plt.show()"
   ]
  },
  {
   "cell_type": "markdown",
   "metadata": {},
   "source": [
    "In order for us to understand the distribution of each socioeconomic status in each district we looked at the relative probabilities of seeing each type of status in the dataset."
   ]
  },
  {
   "cell_type": "code",
   "execution_count": 46,
   "metadata": {
    "collapsed": false
   },
   "outputs": [
    {
     "ename": "KeyError",
     "evalue": "'ax10'",
     "output_type": "error",
     "traceback": [
      "\u001b[1;31m---------------------------------------------------------------------------\u001b[0m",
      "\u001b[1;31mKeyError\u001b[0m                                  Traceback (most recent call last)",
      "\u001b[1;32m<ipython-input-46-05b978c5589f>\u001b[0m in \u001b[0;36m<module>\u001b[1;34m()\u001b[0m\n\u001b[0;32m     47\u001b[0m         \u001b[0my_values\u001b[0m\u001b[1;33m.\u001b[0m\u001b[0mappend\u001b[0m\u001b[1;33m(\u001b[0m\u001b[0mcoord\u001b[0m\u001b[1;33m[\u001b[0m\u001b[1;36m1\u001b[0m\u001b[1;33m]\u001b[0m\u001b[1;33m)\u001b[0m\u001b[1;33m\u001b[0m\u001b[0m\n\u001b[0;32m     48\u001b[0m     \u001b[0mindexes\u001b[0m \u001b[1;33m=\u001b[0m \u001b[0mnp\u001b[0m\u001b[1;33m.\u001b[0m\u001b[0marange\u001b[0m\u001b[1;33m(\u001b[0m\u001b[0mlen\u001b[0m\u001b[1;33m(\u001b[0m\u001b[0mx_values\u001b[0m\u001b[1;33m)\u001b[0m\u001b[1;33m)\u001b[0m\u001b[1;33m\u001b[0m\u001b[0m\n\u001b[1;32m---> 49\u001b[1;33m     \u001b[0mlocals\u001b[0m\u001b[1;33m(\u001b[0m\u001b[1;33m)\u001b[0m\u001b[1;33m[\u001b[0m\u001b[1;34m'ax{0}'\u001b[0m\u001b[1;33m.\u001b[0m\u001b[0mformat\u001b[0m\u001b[1;33m(\u001b[0m\u001b[0mi\u001b[0m\u001b[1;33m)\u001b[0m\u001b[1;33m]\u001b[0m\u001b[1;33m.\u001b[0m\u001b[0mbar\u001b[0m\u001b[1;33m(\u001b[0m\u001b[0mindexes\u001b[0m\u001b[1;33m,\u001b[0m \u001b[0my_values\u001b[0m\u001b[1;33m,\u001b[0m \u001b[0malign\u001b[0m\u001b[1;33m=\u001b[0m\u001b[1;34m'center'\u001b[0m\u001b[1;33m,\u001b[0m \u001b[0mcolor\u001b[0m\u001b[1;33m=\u001b[0m\u001b[1;34m'blue'\u001b[0m\u001b[1;33m)\u001b[0m\u001b[1;33m\u001b[0m\u001b[0m\n\u001b[0m\u001b[0;32m     50\u001b[0m     \u001b[0mlocals\u001b[0m\u001b[1;33m(\u001b[0m\u001b[1;33m)\u001b[0m\u001b[1;33m[\u001b[0m\u001b[1;34m'ax{0}'\u001b[0m\u001b[1;33m.\u001b[0m\u001b[0mformat\u001b[0m\u001b[1;33m(\u001b[0m\u001b[0mi\u001b[0m\u001b[1;33m)\u001b[0m\u001b[1;33m]\u001b[0m\u001b[1;33m.\u001b[0m\u001b[0mset_ylim\u001b[0m\u001b[1;33m(\u001b[0m\u001b[1;33m[\u001b[0m\u001b[1;36m0\u001b[0m\u001b[1;33m,\u001b[0m\u001b[1;36m2\u001b[0m\u001b[1;33m]\u001b[0m\u001b[1;33m)\u001b[0m\u001b[1;33m\u001b[0m\u001b[0m\n\u001b[0;32m     51\u001b[0m     \u001b[0mlocals\u001b[0m\u001b[1;33m(\u001b[0m\u001b[1;33m)\u001b[0m\u001b[1;33m[\u001b[0m\u001b[1;34m'ax{0}'\u001b[0m\u001b[1;33m.\u001b[0m\u001b[0mformat\u001b[0m\u001b[1;33m(\u001b[0m\u001b[0mi\u001b[0m\u001b[1;33m)\u001b[0m\u001b[1;33m]\u001b[0m\u001b[1;33m.\u001b[0m\u001b[0mset_title\u001b[0m\u001b[1;33m(\u001b[0m\u001b[1;34m'%s'\u001b[0m \u001b[1;33m%\u001b[0m \u001b[0mk\u001b[0m\u001b[1;33m)\u001b[0m\u001b[1;33m\u001b[0m\u001b[0m\n",
      "\u001b[1;31mKeyError\u001b[0m: 'ax10'"
     ]
    },
    {
     "data": {
      "image/png": "[encoded data removed]",
      "text/plain": [
       "<matplotlib.figure.Figure at 0x10fc2b70>"
      ]
     },
     "metadata": {},
     "output_type": "display_data"
    }
   ],
   "source": [
    "focusstatuses = [134, 132, 133]\n",
    "df12 = dataFrame[['BYDEL', 'SOCSTIL']]\n",
    "                        \n",
    "#remove faulty data\n",
    "df12 = df12[pd.notnull(df12['BYDEL'])]\n",
    "df12 = df12.groupby(['SOCSTIL']).size()\n",
    "df12 = df12.reset_index()\n",
    "df12 = df12.sort_values([0],ascending = False)\n",
    "\n",
    "count = df12[0].sum(axis=0)\n",
    "\n",
    "df12['P(C)'] = df12[0]/count\n",
    "\n",
    "df13 = dataFrame[['BYDEL' , 'SOCSTIL']]\n",
    "df13 = df13[pd.notnull(df13['BYDEL'])]\n",
    "df13 = df13.groupby(['SOCSTIL', 'BYDEL']).size()\n",
    "df13 = df13.reset_index()\n",
    "df13 = df13.sort_values(['BYDEL',0], ascending=False)\n",
    "df13 = df13.join(df13.groupby('BYDEL')[0].sum(), on='BYDEL', rsuffix='Total')\n",
    "df13['P(C|D)'] = df13['0'] / df13['0Total']\n",
    "df13 = df13.rename(columns={'0': 'Count', '0Total': 'Total'})\n",
    "\n",
    "\n",
    "df13['P(C)'] = df13['SOCSTIL'].map(df12.set_index('SOCSTIL')['P(C)'])\n",
    "df13['Ratio'] = df13['P(C|D)'] / df13['P(C)']\n",
    "\n",
    "import matplotlib.pyplot as plt\n",
    "%matplotlib inline\n",
    "\n",
    "f, ((ax0, ax1), (ax2, ax3), (ax4, ax5), (ax6, ax7), (ax8, ax9)) = plt.subplots(5, 2, figsize=(14,14))\n",
    "df14 = df13[df13['SOCSTIL'].isin(focusstatuses)]\n",
    "mydict = {}\n",
    "\n",
    "for x in range(len(df14)):\n",
    "    currentid = df14.iloc[x,1]\n",
    "    currentvalue = df14.iloc[x,0]\n",
    "    currentvalue2 = df14.iloc[x,6]\n",
    "    mydict.setdefault(currentid, [])\n",
    "    mydict[currentid].append((currentvalue,currentvalue2))\n",
    "\n",
    "i = 0\n",
    "for k, v in mydict.iteritems():\n",
    "    x_values = []\n",
    "    y_values = []\n",
    "    for coord in v:\n",
    "        x_values.append(coord[0])\n",
    "        y_values.append(coord[1])\n",
    "    indexes = np.arange(len(x_values))\n",
    "    locals()['ax{0}'.format(i)].bar(indexes, y_values, align='center', color='blue')\n",
    "    locals()['ax{0}'.format(i)].set_ylim([0,2])\n",
    "    locals()['ax{0}'.format(i)].set_title('%s' % k)\n",
    "    if (i >= 8):\n",
    "        locals()['ax{0}'.format(i)].set_xticks(range(len(x_values)))\n",
    "        locals()['ax{0}'.format(i)].set_xticklabels(x_values, rotation='vertical')\n",
    "    else:\n",
    "        locals()['ax{0}'.format(i)].get_xaxis().set_ticks([])\n",
    "    i += 1\n",
    "\n",
    "plt.tight_layout()\n",
    "plt.show()"
   ]
  },
  {
   "cell_type": "markdown",
   "metadata": {},
   "source": [
    "This however yielded somewhat evenly distributed results which we at that time didn't think further of. Data after all does not allways give you the results you want. This will be adressed in the discussion section. "
   ]
  },
  {
   "cell_type": "markdown",
   "metadata": {},
   "source": [
    "<h2>3. Theory</h2>"
   ]
  },
  {
   "cell_type": "markdown",
   "metadata": {},
   "source": [
    "<b> 3.1 Machine Learning Tools </b>"
   ]
  },
  {
   "cell_type": "markdown",
   "metadata": {},
   "source": [
    "Like explained on the website, we had some troubles deciding what kind of machine learning methods to use, due to the nature of our dataset. We ended up going with a descision tree, looking at age groups as a target and social group, civil status and origin as features. Chosing this model makes sense because the age of a person can be a clear indication of what kind of income you have. This is espcially true if you are for example under 25 or over 65, due to people under 25 still soing their education or having low paying jobs due to lack of education and job skills. People over 65 are often retired and therefore do not have that high income. \n",
    "\n",
    "Below is the implementation of the Decision tree model:"
   ]
  },
  {
   "cell_type": "code",
   "execution_count": 6,
   "metadata": {
    "collapsed": true
   },
   "outputs": [],
   "source": [
    "from __future__ import print_function\n",
    "\n",
    "import os\n",
    "import subprocess\n",
    "\n",
    "import pandas as pd\n",
    "import numpy as np\n",
    "from sklearn.tree import DecisionTreeClassifier, export_graphviz"
   ]
  },
  {
   "cell_type": "code",
   "execution_count": 7,
   "metadata": {
    "collapsed": true
   },
   "outputs": [],
   "source": [
    "df = pd.read_csv('Socio_Stat_Alder_Herkomst.csv')"
   ]
  },
  {
   "cell_type": "code",
   "execution_count": 8,
   "metadata": {
    "collapsed": false
   },
   "outputs": [
    {
     "name": "stdout",
     "output_type": "stream",
     "text": [
      "df.head()\n",
      "    AAR  BYDEL  ALDERSKAT  IETYPE  SOC_GRUPPE  SOCSTIL  PERSONER\n",
      "0  2013      1          1       1           1      132        11\n",
      "1  2013      1          1       1           1      133         4\n",
      "2  2013      1          1       1           1      134        34\n",
      "3  2013      1          1       1           1      135        29\n",
      "4  2013      1          1       1           1      136        69\n",
      "\n",
      "df.tail()\n",
      "        AAR  BYDEL  ALDERSKAT  IETYPE  SOC_GRUPPE  SOCSTIL  PERSONER\n",
      "49039  1997     99          6       1           3      329        18\n",
      "49040  1997     99          6       1           3      360         6\n",
      "49041  1997     99          6       2           3      329         3\n",
      "49042  1997     99          6       2           3      340         1\n",
      "49043  1997     99          6       2           3      360        16\n",
      "\n"
     ]
    }
   ],
   "source": [
    "print(\"df.head()\", df.head(), sep=\"\\n\", end=\"\\n\\n\")\n",
    "print(\"df.tail()\", df.tail(), sep=\"\\n\", end=\"\\n\\n\")"
   ]
  },
  {
   "cell_type": "code",
   "execution_count": 9,
   "metadata": {
    "collapsed": false
   },
   "outputs": [
    {
     "name": "stdout",
     "output_type": "stream",
     "text": [
      "Social group types:\n",
      "[1 2 3 4 5 6]\n"
     ]
    }
   ],
   "source": [
    "print(\"Social group types:\", df[\"ALDERSKAT\"].unique(), sep=\"\\n\")"
   ]
  },
  {
   "cell_type": "code",
   "execution_count": 10,
   "metadata": {
    "collapsed": true
   },
   "outputs": [],
   "source": [
    "# This is done incase we are dealing with non-numbers.\n",
    "def encode_target(df, target_column):\n",
    "   \n",
    "    df_mod = df.copy()\n",
    "    targets = df_mod[target_column].unique()\n",
    "    map_to_int = {name: n for n, name in enumerate(targets)}\n",
    "    df_mod[\"Target\"] = df_mod[target_column].replace(map_to_int)\n",
    "\n",
    "    return (df_mod, targets)"
   ]
  },
  {
   "cell_type": "code",
   "execution_count": 11,
   "metadata": {
    "collapsed": false
   },
   "outputs": [
    {
     "name": "stdout",
     "output_type": "stream",
     "text": [
      "df2.head()\n",
      "   Target  ALDERSKAT\n",
      "0       0          1\n",
      "1       0          1\n",
      "2       0          1\n",
      "3       0          1\n",
      "4       0          1\n",
      "\n",
      "df2.tail()\n",
      "       Target  ALDERSKAT\n",
      "49039       5          6\n",
      "49040       5          6\n",
      "49041       5          6\n",
      "49042       5          6\n",
      "49043       5          6\n",
      "\n",
      "Targets\n",
      "[1 2 3 4 5 6]\n",
      "\n"
     ]
    }
   ],
   "source": [
    "df2, targets = encode_target(df, \"ALDERSKAT\")\n",
    "print(\"df2.head()\", df2[[\"Target\", \"ALDERSKAT\"]].head(),\n",
    "      sep=\"\\n\", end=\"\\n\\n\")\n",
    "print(\"df2.tail()\", df2[[\"Target\", \"ALDERSKAT\"]].tail(),\n",
    "      sep=\"\\n\", end=\"\\n\\n\")\n",
    "print(\"Targets\", targets, sep=\"\\n\", end=\"\\n\\n\")"
   ]
  },
  {
   "cell_type": "code",
   "execution_count": 12,
   "metadata": {
    "collapsed": false
   },
   "outputs": [
    {
     "name": "stdout",
     "output_type": "stream",
     "text": [
      "Features:\n",
      "['IETYPE', 'SOC_GRUPPE', 'SOCSTIL']\n"
     ]
    }
   ],
   "source": [
    "features = list(df2.columns[3:6])\n",
    "print(\"Features:\", features, sep=\"\\n\")"
   ]
  },
  {
   "cell_type": "code",
   "execution_count": 13,
   "metadata": {
    "collapsed": false
   },
   "outputs": [
    {
     "data": {
      "text/plain": [
       "DecisionTreeClassifier(class_weight=None, criterion='gini', max_depth=None,\n",
       "            max_features=None, max_leaf_nodes=None, min_samples_leaf=1,\n",
       "            min_samples_split=5000, min_weight_fraction_leaf=0.0,\n",
       "            presort=False, random_state=99, splitter='best')"
      ]
     },
     "execution_count": 13,
     "metadata": {},
     "output_type": "execute_result"
    }
   ],
   "source": [
    "# Setting to split if > 5k samples.\n",
    "y = df2[\"Target\"]\n",
    "X = df2[features]\n",
    "dt = DecisionTreeClassifier(min_samples_split=5000, random_state=99)\n",
    "dt.fit(X, y)"
   ]
  },
  {
   "cell_type": "code",
   "execution_count": 14,
   "metadata": {
    "collapsed": true
   },
   "outputs": [],
   "source": [
    "# Visualizing the tree. Remember you need to have the GraphViz installed.\n",
    "def visualize_tree(tree, feature_names):\n",
    "   \n",
    "    with open(\"dt.dot\", 'w') as f:\n",
    "        export_graphviz(tree, out_file=f,\n",
    "                        feature_names=feature_names)\n",
    "\n",
    "    command = [\"dot\", \"-Tpng\", \"dt.dot\", \"-o\", \"dt.png\"]\n",
    "    try:\n",
    "        subprocess.check_call(command)\n",
    "    except:\n",
    "        exit(\"Could not run dot, ie graphviz, to \"\n",
    "             \"produce visualization\")"
   ]
  },
  {
   "cell_type": "code",
   "execution_count": 15,
   "metadata": {
    "collapsed": true
   },
   "outputs": [],
   "source": [
    "visualize_tree(dt, features)"
   ]
  },
  {
   "cell_type": "markdown",
   "metadata": {},
   "source": [
    "Here is the picture if you dont have GraphViz installed:\n",
    "[Image of Tree](http://postimg.org/image/ub6pm6w5t/)"
   ]
  },
  {
   "cell_type": "code",
   "execution_count": 19,
   "metadata": {
    "collapsed": true
   },
   "outputs": [],
   "source": [
    "#reference: http://chrisstrelioff.ws/sandbox/2015/06/08/decision_trees_in_python_with_scikit_learn_and_pandas.html"
   ]
  },
  {
   "cell_type": "markdown",
   "metadata": {},
   "source": [
    "The second model is a k-means clustering. For reasons that are unclear to us, the model did not work in iPython, which is why we did it using Matlab instead. Using this model was more of a wanting to show that we know what it is, and that we could explain why it does not really work on our data. We wanted to make the 2 different machine learning methods nessesary, and decided that we might as well show this as our second one, as we didnt think that any of the others would fit any better on our focus. \n",
    "K-means clustering is used for grouping data-points based on a the mean of a cluster. Centroids are calculated for each cluster and of course visualizes the center of data points beloning to it. \n",
    "The reason why it does not work can easily be see on the graph. Like explained earlier our data is classified already. The only attribute not in a close to binary form is the PERSONER attribe, which descibes how many people are in a specific category. This is the reason for the graph looking grid-like. When that is the case it can be very hard to differentiate the data points. Additionally the fact that the dataset we are using is categorized makes the centroids position more dependent on the attribte on the x-axis (of the graph below) rather that the data values. \n",
    "\n",
    "Below is the resulting graph:\n",
    "\n",
    "<img src=\"MartinKPedersen.github.io/kmeans.jpg\">\n",
    "If it does not work the graph can also be found [Here](http://s32.postimg.org/9b63f8dzp/kmeans.jpg) "
   ]
  },
  {
   "cell_type": "markdown",
   "metadata": {},
   "source": [
    "<b> 3.2 Model Selection </b>"
   ]
  },
  {
   "cell_type": "markdown",
   "metadata": {},
   "source": [
    "In the k-means clustering model the data was split randomly into 80/20% training and test data sets. Cross-validation was used to evaluate how the model did on the test data."
   ]
  },
  {
   "cell_type": "markdown",
   "metadata": {},
   "source": [
    "<b> 3.3 Model Performance </b>"
   ]
  },
  {
   "cell_type": "markdown",
   "metadata": {},
   "source": [
    "The descision tree we though was an interesting way to investigate how the attributes affected each other. It can also be used predictively if a certain case needs to be estimated. It did result similarly to what we expected and can be used to tell an interesting story to the non-scientific reader of our website. \n",
    "\n",
    "The k-means clustering results were due to the data inconclusive. We were in doubt if it should be included on the website, as it would not add anything, therefore we chose to keep it in the explainer notebook and just mention it for the interested reader, who can then come here and read about it.\n",
    "The results were very much as expected. We played around with the model and which attributes to include. The ones chosen we thought nicely illustrated our point."
   ]
  },
  {
   "cell_type": "markdown",
   "metadata": {},
   "source": [
    "<h2>4. Visualizations</h2>"
   ]
  },
  {
   "cell_type": "markdown",
   "metadata": {},
   "source": [
    "<b> 4.1 Mouseover Labels </b>"
   ]
  },
  {
   "cell_type": "markdown",
   "metadata": {},
   "source": [
    "The scatter plot along with the grouped bar chart has mouseover labels on them making it possible for the user to investigate the exact data values. This helps conveying the message of the visualization and delivers interactivity which enhances user engagement. "
   ]
  },
  {
   "cell_type": "markdown",
   "metadata": {},
   "source": [
    "<b>4.2 Scatter plot </b>"
   ]
  },
  {
   "cell_type": "markdown",
   "metadata": {},
   "source": [
    "We chose to use the scatter plot to visualize an overarching trend within the data. Although it was taken more or less directly from classes it succeeded in its purpose of illustrating a rise in high-income citizens. The scatter plot was created with a y-axis of high-income citizens, a x-axis og low-income citizens and a radius displaying the total number of citizens within those socioeconomic groups. \n"
   ]
  },
  {
   "cell_type": "markdown",
   "metadata": {},
   "source": [
    "<b>4.3 Grouped bar chart</b>"
   ]
  },
  {
   "cell_type": "markdown",
   "metadata": {},
   "source": [
    "The grouped bar chart displays the developement in three groups over time. Namely the 1. Employees at the highest level, 2. Employees at medium level, 3. Employees at ground level. \n",
    "\n",
    "The idea for a grouped bar chart came to us after we decided to focus on the three subgroups, since it gave us an opportunity to visualize three distinct developments over time. \n",
    "\n",
    "Doing the transition on all three subgroups at once appeared confusing and made it difficult to realise which subgroup had underhone which development. As a result we created the visualization so that the transition happens on one subgroup at a time. This is an effective way of making transitions in grouped charts since it highlights changes in one attribute at a time."
   ]
  },
  {
   "cell_type": "markdown",
   "metadata": {},
   "source": [
    "<b>4.4 Stacked bar chart</b>"
   ]
  },
  {
   "cell_type": "markdown",
   "metadata": {},
   "source": [
    "The stacked bar chart visualizes the distribution of age groups within each Copenhagen district in 1997 and 2013.\n",
    "\n",
    "The stacked bar chart is effective at visualizing any kind of distribution since it is done in percentage. Bar charts are also easy for the human eye to recognize since we a very capable of estimating differences in hights. We chose to make the stacked bar chart for 1997 and 2013 respectively in order to visualize the difference between the starting point and end point of our data. "
   ]
  },
  {
   "cell_type": "markdown",
   "metadata": {},
   "source": [
    "<b>4.5 Donut chart</b>"
   ]
  },
  {
   "cell_type": "markdown",
   "metadata": {},
   "source": [
    "The donut charts displays the distribution of immigrants and danish citizens within the districts of Vest Amager and Bispebjerg. \n",
    "\n",
    "The donut charts are, as with all pie charts, harder for the human eye to read since we are worse at observing angles as opposed to heights. However, we chose this because we only had to illustrate three values that we knew would be heavily skewed towards one of them - the danish citizens. At first we went with a pie chart, but it was simply too boring to look at. The donut chart however offers the capability of highlighting something in the middle of the figure. We used this white space to visualize a percentage of immigrants in that specific year and district. This also serves the purpose of eliminating any lack of understandability since the angle-based diagram now is supported by text. \n",
    "\n",
    "The reason we chose to only visualize two districts was because visualizing all districts simply became too confusing. We even tried doing a multiple pie chart but it created more clutter than clarity.\n"
   ]
  },
  {
   "cell_type": "markdown",
   "metadata": {},
   "source": [
    "<h2>5. Discussion</h2>"
   ]
  },
  {
   "cell_type": "markdown",
   "metadata": {},
   "source": [
    "<b> 5.1 The good </b>"
   ]
  },
  {
   "cell_type": "markdown",
   "metadata": {},
   "source": [
    "The website is what we as a group is the most satisfied with. Its structure and content is somewhat like how a real project website would look like. It is also quite interesting to look at how some of the data turned out. The difference between districts is not as apparent as we had thought. There is not a single district that has had a dramatic increase in low-salary citizens, which was something that we expected due to our personal kn. Furthermore the spike in high-income citizens and the lowering in medium-income citizens in 2010 is something that would be interesting to investigate further.  \n",
    "\n",
    "The visualizations we chose turned out to be quite good. They look smooth and they each serve their purpose as intended. We also believe that we managed to put in quite a lot of visualizations which makes our intended message more understandable and supported. It is very interesting to see how simple visualizations can create such clarity in a statistical analysis."
   ]
  },
  {
   "cell_type": "markdown",
   "metadata": {},
   "source": [
    "<b> 5.2 The bad </b>"
   ]
  },
  {
   "cell_type": "markdown",
   "metadata": {},
   "source": [
    "This project suffers from one devious mistake: That we had to change our data set. Since we did our initial data exploration on a different dataset the exploration we could manage timewise on the new one became rather limited. This resulting in us overlooking the severity of having each line in the dataset devoted to a group of people. As a result some of our statistical work became problematic, which we unfortunately realized too late. \n",
    "\n",
    "This is true for the k-means method which as described in the theory section is not for data categorized as ours. Furthermore it included our relative probability analysis, which could have taken the project in a different direction had been done correctly.\n",
    "\n",
    "The good that came from this is that we have now learned how important it is to be sceptic towards datasets before choosing to work with it. \n",
    "\n",
    "As a result of this problematic development process our project is lacking statistical evidence. We understand that this is very important and would in the future never release such a website. However for this class we have included machine learning methods to illustrate that we understand the concepts and can perform such methods. \n"
   ]
  }
 ],
 "metadata": {
  "kernelspec": {
   "display_name": "Python 2",
   "language": "python",
   "name": "python2"
  },
  "language_info": {
   "codemirror_mode": {
    "name": "ipython",
    "version": 2
   },
   "file_extension": ".py",
   "mimetype": "text/x-python",
   "name": "python",
   "nbconvert_exporter": "python",
   "pygments_lexer": "ipython2",
   "version": "2.7.11"
  }
 },
 "nbformat": 4,
 "nbformat_minor": 0
}
